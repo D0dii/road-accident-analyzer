{
 "cells": [
  {
   "cell_type": "code",
   "execution_count": null,
   "metadata": {},
   "outputs": [],
   "source": [
    "import pandas as pd "
   ]
  },
  {
   "cell_type": "code",
   "execution_count": null,
   "metadata": {},
   "outputs": [],
   "source": [
    "data = pd.read_csv(\"data.csv\")"
   ]
  },
  {
   "cell_type": "code",
   "execution_count": null,
   "metadata": {},
   "outputs": [],
   "source": [
    "data.head()"
   ]
  },
  {
   "cell_type": "code",
   "execution_count": null,
   "metadata": {},
   "outputs": [],
   "source": [
    "data.info()"
   ]
  },
  {
   "cell_type": "code",
   "execution_count": null,
   "metadata": {},
   "outputs": [],
   "source": [
    "def show_missing_values():\n",
    "    nulls = data.isnull()\n",
    "    null_values = nulls.sum().sort_values(ascending=False)\n",
    "    percentage = nulls.sum() / nulls.count()*100\n",
    "    missing_values = pd.concat([null_values, percentage], axis=1, keys=['Number', 'Percentage'], sort=False)\n",
    "    return missing_values[missing_values['Percentage'] != 0]\n",
    "\n",
    "show_missing_values()"
   ]
  },
  {
   "cell_type": "code",
   "execution_count": null,
   "metadata": {},
   "outputs": [],
   "source": [
    "keepCols = [\"Severity\", \"Start_Time\", \"Start_Lat\", \"Start_Lng\",\"City\", \"State\", \"Temperature(F)\", \"Humidity(%)\", \"Pressure(in)\", \"Visibility(mi)\", \"Wind_Speed(mph)\"]\n",
    "newData = data[data.columns.intersection(keepCols)]\n",
    "newData.head()"
   ]
  },
  {
   "cell_type": "code",
   "execution_count": null,
   "metadata": {},
   "outputs": [],
   "source": [
    "newData.insert(11, \"Road_Type\", \"\")"
   ]
  },
  {
   "cell_type": "code",
   "execution_count": null,
   "metadata": {},
   "outputs": [],
   "source": [
    "import requests\n",
    "def makeWeatherApiRequest(row):\n",
    "    url = \"https://weather.visualcrossing.com/VisualCrossingWebServices/rest/services/timeline/\"\n",
    "    apiKey = \"YZVW87VHVPK8M8W5WXYD4LYR8\"\n",
    "    locationString = str(row[\"Start_Lat\"]) + \",\" + str(row[\"Start_Lng\"])\n",
    "    dateString = str(row[\"Start_Time\"].replace(\" \", \"T0\"))[:20]\n",
    "    requestUrl = url + locationString + \"/\" + dateString + \"?key=\" + apiKey\n",
    "    response = requests.get(requestUrl)\n",
    "    return response"
   ]
  },
  {
   "cell_type": "code",
   "execution_count": null,
   "metadata": {},
   "outputs": [],
   "source": [
    "import osmnx as ox\n",
    "import geopandas as gpd\n",
    "from shapely.geometry import Point\n",
    "\n",
    "firstRow = newData.iloc[0]\n",
    "\n",
    "lat = firstRow[\"Start_Lat\"]\n",
    "lon = firstRow[\"Start_Lng\"]\n",
    "print(lat,lon)\n",
    "\n",
    "# Download road network as a so-called Graph object\n",
    "# The network will be centered at your coordinate\n",
    "# and includes all nodes in the vicinity of 2 km\n",
    "G = ox.graph_from_point((lat,lon), dist=250, network_type='all')\n",
    "# plot if you wish\n",
    "ox.plot_graph(G)\n",
    "\n",
    "# Convert Graph to graph data frame\n",
    "gdf = ox.graph_to_gdfs(G, nodes=False, fill_edge_geometry=True)\n",
    "# extract roads and some properties\n",
    "roads = gdf[[\"geometry\",\"highway\"]].values.tolist()\n",
    "# calculate and attach distance\n",
    "roads_with_distances = [(road, Point(tuple(reversed((lat,lon)))).distance(road[0])) for road in roads]\n",
    "# sort by distance\n",
    "roads_with_distances = sorted(roads_with_distances, key=lambda x: x[1])\n",
    "\n",
    "# Select closest road\n",
    "closest_road = roads_with_distances[0]\n",
    "print(closest_road[0][1])\n",
    "print(roads)"
   ]
  },
  {
   "cell_type": "code",
   "execution_count": null,
   "metadata": {},
   "outputs": [],
   "source": [
    "def getRoadType(row):\n",
    "    try:\n",
    "        lat = row[\"Start_Lat\"]\n",
    "        lon = row[\"Start_Lng\"]\n",
    "        try:\n",
    "            G = ox.graph_from_point((lat,lon), dist=2000, network_type='all')\n",
    "        except Exception as e:\n",
    "            return \"\"\n",
    "        gdf = ox.graph_to_gdfs(G, nodes=False, fill_edge_geometry=True)\n",
    "        roads = gdf[[\"geometry\",\"highway\"]].values.tolist()\n",
    "        if len(roads) < 1:\n",
    "            return \"\"\n",
    "        roads_with_distances = [(road, Point(tuple(reversed((lat,lon)))).distance(road[0])) for road in roads]\n",
    "        roads_with_distances = sorted(roads_with_distances, key=lambda x: x[1])\n",
    "\n",
    "        closest_road = roads_with_distances[0]\n",
    "        return closest_road[0][1]\n",
    "    except Exception as e:\n",
    "        return \"\""
   ]
  },
  {
   "cell_type": "code",
   "execution_count": null,
   "metadata": {},
   "outputs": [],
   "source": [
    "#very long time to run\n",
    "smallData = newData.head(20000)\n",
    "for index, row in smallData.iterrows():\n",
    "    smallData.at[index,\"Road_Type\"]=getRoadType(row)\n",
    "smallData.to_csv(\"dataFromNight.csv\")\n",
    "smallData.head()"
   ]
  },
  {
   "cell_type": "code",
   "execution_count": null,
   "metadata": {},
   "outputs": [],
   "source": [
    "#very long time to run\n",
    "tailData = newData.tail(5000)\n",
    "for index, row in tailData.iterrows():\n",
    "    tailData.at[index,\"Road_Type\"]=getRoadType(row)\n",
    "\n",
    "tailData.to_csv(\"tailOfSmallDataFromNight.csv\")"
   ]
  },
  {
   "cell_type": "code",
   "execution_count": null,
   "metadata": {},
   "outputs": [],
   "source": [
    "dfBoth = pd.concat([smallData, tailData])\n",
    "dfBoth.to_csv(\"concatedData.csv\")"
   ]
  },
  {
   "cell_type": "code",
   "execution_count": null,
   "metadata": {},
   "outputs": [],
   "source": [
    "#long time to run\n",
    "for index, row in dfBoth.iterrows():\n",
    "    if dfBoth.at[index,\"Road_Type\"] == \"\":\n",
    "        print(\"Getting road type for index: \" + str(index))\n",
    "        dfBoth.at[index,\"Road_Type\"]=getRoadType(row)"
   ]
  },
  {
   "cell_type": "code",
   "execution_count": null,
   "metadata": {},
   "outputs": [],
   "source": [
    "dfBoth['Road_Type'] = dfBoth['Road_Type'].astype(str)"
   ]
  },
  {
   "cell_type": "code",
   "execution_count": null,
   "metadata": {},
   "outputs": [],
   "source": [
    "dfBoth.to_csv(\"finalData.csv\")"
   ]
  }
 ],
 "metadata": {
  "kernelspec": {
   "display_name": "Python 3",
   "language": "python",
   "name": "python3"
  },
  "language_info": {
   "name": "python",
   "version": "3.11.1"
  }
 },
 "nbformat": 4,
 "nbformat_minor": 2
}
