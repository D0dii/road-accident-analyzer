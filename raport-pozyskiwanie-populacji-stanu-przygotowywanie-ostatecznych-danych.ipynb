{
 "cells": [
  {
   "cell_type": "code",
   "execution_count": 2,
   "metadata": {},
   "outputs": [],
   "source": [
    "import pandas as pd "
   ]
  },
  {
   "cell_type": "code",
   "execution_count": 2,
   "metadata": {},
   "outputs": [],
   "source": [
    "data = pd.read_csv(\"finalData.csv\")"
   ]
  },
  {
   "cell_type": "code",
   "execution_count": 3,
   "metadata": {},
   "outputs": [
    {
     "data": {
      "text/html": [
       "<div>\n",
       "<style scoped>\n",
       "    .dataframe tbody tr th:only-of-type {\n",
       "        vertical-align: middle;\n",
       "    }\n",
       "\n",
       "    .dataframe tbody tr th {\n",
       "        vertical-align: top;\n",
       "    }\n",
       "\n",
       "    .dataframe thead th {\n",
       "        text-align: right;\n",
       "    }\n",
       "</style>\n",
       "<table border=\"1\" class=\"dataframe\">\n",
       "  <thead>\n",
       "    <tr style=\"text-align: right;\">\n",
       "      <th></th>\n",
       "      <th>Unnamed: 0.1</th>\n",
       "      <th>Unnamed: 0</th>\n",
       "      <th>Severity</th>\n",
       "      <th>Start_Time</th>\n",
       "      <th>Start_Lat</th>\n",
       "      <th>Start_Lng</th>\n",
       "      <th>City</th>\n",
       "      <th>State</th>\n",
       "      <th>Temperature(F)</th>\n",
       "      <th>Humidity(%)</th>\n",
       "      <th>Pressure(in)</th>\n",
       "      <th>Visibility(mi)</th>\n",
       "      <th>Wind_Speed(mph)</th>\n",
       "      <th>Road_Type</th>\n",
       "    </tr>\n",
       "  </thead>\n",
       "  <tbody>\n",
       "    <tr>\n",
       "      <th>0</th>\n",
       "      <td>0</td>\n",
       "      <td>0</td>\n",
       "      <td>2</td>\n",
       "      <td>2019-06-12 10:10:56</td>\n",
       "      <td>30.641211</td>\n",
       "      <td>-91.153481</td>\n",
       "      <td>Zachary</td>\n",
       "      <td>LA</td>\n",
       "      <td>77.0</td>\n",
       "      <td>62.0</td>\n",
       "      <td>29.92</td>\n",
       "      <td>10.0</td>\n",
       "      <td>5.0</td>\n",
       "      <td>tertiary</td>\n",
       "    </tr>\n",
       "    <tr>\n",
       "      <th>1</th>\n",
       "      <td>1</td>\n",
       "      <td>1</td>\n",
       "      <td>2</td>\n",
       "      <td>2022-12-03 23:37:14.000000000</td>\n",
       "      <td>38.990562</td>\n",
       "      <td>-77.399070</td>\n",
       "      <td>Sterling</td>\n",
       "      <td>VA</td>\n",
       "      <td>45.0</td>\n",
       "      <td>48.0</td>\n",
       "      <td>29.91</td>\n",
       "      <td>10.0</td>\n",
       "      <td>5.0</td>\n",
       "      <td>tertiary</td>\n",
       "    </tr>\n",
       "    <tr>\n",
       "      <th>2</th>\n",
       "      <td>2</td>\n",
       "      <td>2</td>\n",
       "      <td>2</td>\n",
       "      <td>2022-08-20 13:13:00.000000000</td>\n",
       "      <td>34.661189</td>\n",
       "      <td>-120.492822</td>\n",
       "      <td>Lompoc</td>\n",
       "      <td>CA</td>\n",
       "      <td>68.0</td>\n",
       "      <td>73.0</td>\n",
       "      <td>29.79</td>\n",
       "      <td>10.0</td>\n",
       "      <td>13.0</td>\n",
       "      <td>tertiary</td>\n",
       "    </tr>\n",
       "    <tr>\n",
       "      <th>3</th>\n",
       "      <td>3</td>\n",
       "      <td>3</td>\n",
       "      <td>2</td>\n",
       "      <td>2022-02-21 17:43:04</td>\n",
       "      <td>43.680592</td>\n",
       "      <td>-92.993317</td>\n",
       "      <td>Austin</td>\n",
       "      <td>MN</td>\n",
       "      <td>27.0</td>\n",
       "      <td>86.0</td>\n",
       "      <td>28.49</td>\n",
       "      <td>10.0</td>\n",
       "      <td>15.0</td>\n",
       "      <td>primary</td>\n",
       "    </tr>\n",
       "    <tr>\n",
       "      <th>4</th>\n",
       "      <td>4</td>\n",
       "      <td>4</td>\n",
       "      <td>2</td>\n",
       "      <td>2020-12-04 01:46:00</td>\n",
       "      <td>35.395484</td>\n",
       "      <td>-118.985176</td>\n",
       "      <td>Bakersfield</td>\n",
       "      <td>CA</td>\n",
       "      <td>42.0</td>\n",
       "      <td>34.0</td>\n",
       "      <td>29.77</td>\n",
       "      <td>10.0</td>\n",
       "      <td>0.0</td>\n",
       "      <td>residential</td>\n",
       "    </tr>\n",
       "  </tbody>\n",
       "</table>\n",
       "</div>"
      ],
      "text/plain": [
       "   Unnamed: 0.1  Unnamed: 0  Severity                     Start_Time  \\\n",
       "0             0           0         2            2019-06-12 10:10:56   \n",
       "1             1           1         2  2022-12-03 23:37:14.000000000   \n",
       "2             2           2         2  2022-08-20 13:13:00.000000000   \n",
       "3             3           3         2            2022-02-21 17:43:04   \n",
       "4             4           4         2            2020-12-04 01:46:00   \n",
       "\n",
       "   Start_Lat   Start_Lng         City State  Temperature(F)  Humidity(%)  \\\n",
       "0  30.641211  -91.153481      Zachary    LA            77.0         62.0   \n",
       "1  38.990562  -77.399070     Sterling    VA            45.0         48.0   \n",
       "2  34.661189 -120.492822       Lompoc    CA            68.0         73.0   \n",
       "3  43.680592  -92.993317       Austin    MN            27.0         86.0   \n",
       "4  35.395484 -118.985176  Bakersfield    CA            42.0         34.0   \n",
       "\n",
       "   Pressure(in)  Visibility(mi)  Wind_Speed(mph)    Road_Type  \n",
       "0         29.92            10.0              5.0     tertiary  \n",
       "1         29.91            10.0              5.0     tertiary  \n",
       "2         29.79            10.0             13.0     tertiary  \n",
       "3         28.49            10.0             15.0      primary  \n",
       "4         29.77            10.0              0.0  residential  "
      ]
     },
     "execution_count": 3,
     "metadata": {},
     "output_type": "execute_result"
    }
   ],
   "source": [
    "data.head()"
   ]
  },
  {
   "cell_type": "code",
   "execution_count": 4,
   "metadata": {},
   "outputs": [
    {
     "name": "stdout",
     "output_type": "stream",
     "text": [
      "<class 'pandas.core.frame.DataFrame'>\n",
      "RangeIndex: 25000 entries, 0 to 24999\n",
      "Data columns (total 14 columns):\n",
      " #   Column           Non-Null Count  Dtype  \n",
      "---  ------           --------------  -----  \n",
      " 0   Unnamed: 0.1     25000 non-null  int64  \n",
      " 1   Unnamed: 0       25000 non-null  int64  \n",
      " 2   Severity         25000 non-null  int64  \n",
      " 3   Start_Time       25000 non-null  object \n",
      " 4   Start_Lat        25000 non-null  float64\n",
      " 5   Start_Lng        25000 non-null  float64\n",
      " 6   City             24999 non-null  object \n",
      " 7   State            25000 non-null  object \n",
      " 8   Temperature(F)   24468 non-null  float64\n",
      " 9   Humidity(%)      24435 non-null  float64\n",
      " 10  Pressure(in)     24552 non-null  float64\n",
      " 11  Visibility(mi)   24435 non-null  float64\n",
      " 12  Wind_Speed(mph)  23126 non-null  float64\n",
      " 13  Road_Type        21774 non-null  object \n",
      "dtypes: float64(7), int64(3), object(4)\n",
      "memory usage: 2.7+ MB\n"
     ]
    }
   ],
   "source": [
    "data.info()"
   ]
  },
  {
   "cell_type": "code",
   "execution_count": 5,
   "metadata": {},
   "outputs": [],
   "source": [
    "data.insert(14, \"Population\", 0)"
   ]
  },
  {
   "cell_type": "code",
   "execution_count": 6,
   "metadata": {},
   "outputs": [
    {
     "name": "stdout",
     "output_type": "stream",
     "text": [
      "<class 'pandas.core.frame.DataFrame'>\n",
      "RangeIndex: 25000 entries, 0 to 24999\n",
      "Data columns (total 15 columns):\n",
      " #   Column           Non-Null Count  Dtype  \n",
      "---  ------           --------------  -----  \n",
      " 0   Unnamed: 0.1     25000 non-null  int64  \n",
      " 1   Unnamed: 0       25000 non-null  int64  \n",
      " 2   Severity         25000 non-null  int64  \n",
      " 3   Start_Time       25000 non-null  object \n",
      " 4   Start_Lat        25000 non-null  float64\n",
      " 5   Start_Lng        25000 non-null  float64\n",
      " 6   City             24999 non-null  object \n",
      " 7   State            25000 non-null  object \n",
      " 8   Temperature(F)   24468 non-null  float64\n",
      " 9   Humidity(%)      24435 non-null  float64\n",
      " 10  Pressure(in)     24552 non-null  float64\n",
      " 11  Visibility(mi)   24435 non-null  float64\n",
      " 12  Wind_Speed(mph)  23126 non-null  float64\n",
      " 13  Road_Type        21774 non-null  object \n",
      " 14  Population       25000 non-null  int64  \n",
      "dtypes: float64(7), int64(4), object(4)\n",
      "memory usage: 2.9+ MB\n"
     ]
    }
   ],
   "source": [
    "data.info()"
   ]
  },
  {
   "cell_type": "code",
   "execution_count": 7,
   "metadata": {},
   "outputs": [],
   "source": [
    "state_population = {}\n",
    "\n",
    "with open('states.txt', 'r') as file:\n",
    "    for line in file:\n",
    "        state_name, state_abbr, population = line.strip().split(',')\n",
    "        state_population[state_abbr] = int(population)\n",
    "\n",
    "# Function to get the population based on the state abbreviation\n",
    "def get_population(state_abbr):\n",
    "    return state_population.get(state_abbr, None)\n",
    "\n",
    "# Create a new column in the DataFrame for population\n",
    "data['Population'] = data['State'].apply(get_population)"
   ]
  },
  {
   "cell_type": "code",
   "execution_count": 8,
   "metadata": {},
   "outputs": [
    {
     "data": {
      "text/html": [
       "<div>\n",
       "<style scoped>\n",
       "    .dataframe tbody tr th:only-of-type {\n",
       "        vertical-align: middle;\n",
       "    }\n",
       "\n",
       "    .dataframe tbody tr th {\n",
       "        vertical-align: top;\n",
       "    }\n",
       "\n",
       "    .dataframe thead th {\n",
       "        text-align: right;\n",
       "    }\n",
       "</style>\n",
       "<table border=\"1\" class=\"dataframe\">\n",
       "  <thead>\n",
       "    <tr style=\"text-align: right;\">\n",
       "      <th></th>\n",
       "      <th>Unnamed: 0.1</th>\n",
       "      <th>Unnamed: 0</th>\n",
       "      <th>Severity</th>\n",
       "      <th>Start_Time</th>\n",
       "      <th>Start_Lat</th>\n",
       "      <th>Start_Lng</th>\n",
       "      <th>City</th>\n",
       "      <th>State</th>\n",
       "      <th>Temperature(F)</th>\n",
       "      <th>Humidity(%)</th>\n",
       "      <th>Pressure(in)</th>\n",
       "      <th>Visibility(mi)</th>\n",
       "      <th>Wind_Speed(mph)</th>\n",
       "      <th>Road_Type</th>\n",
       "      <th>Population</th>\n",
       "    </tr>\n",
       "  </thead>\n",
       "  <tbody>\n",
       "    <tr>\n",
       "      <th>0</th>\n",
       "      <td>0</td>\n",
       "      <td>0</td>\n",
       "      <td>2</td>\n",
       "      <td>2019-06-12 10:10:56</td>\n",
       "      <td>30.641211</td>\n",
       "      <td>-91.153481</td>\n",
       "      <td>Zachary</td>\n",
       "      <td>LA</td>\n",
       "      <td>77.0</td>\n",
       "      <td>62.0</td>\n",
       "      <td>29.92</td>\n",
       "      <td>10.0</td>\n",
       "      <td>5.0</td>\n",
       "      <td>tertiary</td>\n",
       "      <td>4468976</td>\n",
       "    </tr>\n",
       "    <tr>\n",
       "      <th>1</th>\n",
       "      <td>1</td>\n",
       "      <td>1</td>\n",
       "      <td>2</td>\n",
       "      <td>2022-12-03 23:37:14.000000000</td>\n",
       "      <td>38.990562</td>\n",
       "      <td>-77.399070</td>\n",
       "      <td>Sterling</td>\n",
       "      <td>VA</td>\n",
       "      <td>45.0</td>\n",
       "      <td>48.0</td>\n",
       "      <td>29.91</td>\n",
       "      <td>10.0</td>\n",
       "      <td>5.0</td>\n",
       "      <td>tertiary</td>\n",
       "      <td>7078515</td>\n",
       "    </tr>\n",
       "    <tr>\n",
       "      <th>2</th>\n",
       "      <td>2</td>\n",
       "      <td>2</td>\n",
       "      <td>2</td>\n",
       "      <td>2022-08-20 13:13:00.000000000</td>\n",
       "      <td>34.661189</td>\n",
       "      <td>-120.492822</td>\n",
       "      <td>Lompoc</td>\n",
       "      <td>CA</td>\n",
       "      <td>68.0</td>\n",
       "      <td>73.0</td>\n",
       "      <td>29.79</td>\n",
       "      <td>10.0</td>\n",
       "      <td>13.0</td>\n",
       "      <td>tertiary</td>\n",
       "      <td>33871648</td>\n",
       "    </tr>\n",
       "    <tr>\n",
       "      <th>3</th>\n",
       "      <td>3</td>\n",
       "      <td>3</td>\n",
       "      <td>2</td>\n",
       "      <td>2022-02-21 17:43:04</td>\n",
       "      <td>43.680592</td>\n",
       "      <td>-92.993317</td>\n",
       "      <td>Austin</td>\n",
       "      <td>MN</td>\n",
       "      <td>27.0</td>\n",
       "      <td>86.0</td>\n",
       "      <td>28.49</td>\n",
       "      <td>10.0</td>\n",
       "      <td>15.0</td>\n",
       "      <td>primary</td>\n",
       "      <td>4919479</td>\n",
       "    </tr>\n",
       "    <tr>\n",
       "      <th>4</th>\n",
       "      <td>4</td>\n",
       "      <td>4</td>\n",
       "      <td>2</td>\n",
       "      <td>2020-12-04 01:46:00</td>\n",
       "      <td>35.395484</td>\n",
       "      <td>-118.985176</td>\n",
       "      <td>Bakersfield</td>\n",
       "      <td>CA</td>\n",
       "      <td>42.0</td>\n",
       "      <td>34.0</td>\n",
       "      <td>29.77</td>\n",
       "      <td>10.0</td>\n",
       "      <td>0.0</td>\n",
       "      <td>residential</td>\n",
       "      <td>33871648</td>\n",
       "    </tr>\n",
       "  </tbody>\n",
       "</table>\n",
       "</div>"
      ],
      "text/plain": [
       "   Unnamed: 0.1  Unnamed: 0  Severity                     Start_Time  \\\n",
       "0             0           0         2            2019-06-12 10:10:56   \n",
       "1             1           1         2  2022-12-03 23:37:14.000000000   \n",
       "2             2           2         2  2022-08-20 13:13:00.000000000   \n",
       "3             3           3         2            2022-02-21 17:43:04   \n",
       "4             4           4         2            2020-12-04 01:46:00   \n",
       "\n",
       "   Start_Lat   Start_Lng         City State  Temperature(F)  Humidity(%)  \\\n",
       "0  30.641211  -91.153481      Zachary    LA            77.0         62.0   \n",
       "1  38.990562  -77.399070     Sterling    VA            45.0         48.0   \n",
       "2  34.661189 -120.492822       Lompoc    CA            68.0         73.0   \n",
       "3  43.680592  -92.993317       Austin    MN            27.0         86.0   \n",
       "4  35.395484 -118.985176  Bakersfield    CA            42.0         34.0   \n",
       "\n",
       "   Pressure(in)  Visibility(mi)  Wind_Speed(mph)    Road_Type  Population  \n",
       "0         29.92            10.0              5.0     tertiary     4468976  \n",
       "1         29.91            10.0              5.0     tertiary     7078515  \n",
       "2         29.79            10.0             13.0     tertiary    33871648  \n",
       "3         28.49            10.0             15.0      primary     4919479  \n",
       "4         29.77            10.0              0.0  residential    33871648  "
      ]
     },
     "execution_count": 8,
     "metadata": {},
     "output_type": "execute_result"
    }
   ],
   "source": [
    "data.head()"
   ]
  },
  {
   "cell_type": "code",
   "execution_count": 9,
   "metadata": {},
   "outputs": [],
   "source": [
    "data.to_csv(\"finalDataWithPopulation.csv\")"
   ]
  },
  {
   "cell_type": "code",
   "execution_count": 10,
   "metadata": {},
   "outputs": [
    {
     "name": "stdout",
     "output_type": "stream",
     "text": [
      "<class 'pandas.core.frame.DataFrame'>\n",
      "RangeIndex: 25000 entries, 0 to 24999\n",
      "Data columns (total 15 columns):\n",
      " #   Column           Non-Null Count  Dtype  \n",
      "---  ------           --------------  -----  \n",
      " 0   Unnamed: 0.1     25000 non-null  int64  \n",
      " 1   Unnamed: 0       25000 non-null  int64  \n",
      " 2   Severity         25000 non-null  int64  \n",
      " 3   Start_Time       25000 non-null  object \n",
      " 4   Start_Lat        25000 non-null  float64\n",
      " 5   Start_Lng        25000 non-null  float64\n",
      " 6   City             24999 non-null  object \n",
      " 7   State            25000 non-null  object \n",
      " 8   Temperature(F)   24468 non-null  float64\n",
      " 9   Humidity(%)      24435 non-null  float64\n",
      " 10  Pressure(in)     24552 non-null  float64\n",
      " 11  Visibility(mi)   24435 non-null  float64\n",
      " 12  Wind_Speed(mph)  23126 non-null  float64\n",
      " 13  Road_Type        21774 non-null  object \n",
      " 14  Population       25000 non-null  int64  \n",
      "dtypes: float64(7), int64(4), object(4)\n",
      "memory usage: 2.9+ MB\n"
     ]
    }
   ],
   "source": [
    "data.info()"
   ]
  },
  {
   "cell_type": "code",
   "execution_count": 14,
   "metadata": {},
   "outputs": [],
   "source": [
    "data = data.drop(columns=[\"Unnamed: 0.1\", \"Unnamed: 0\"])"
   ]
  },
  {
   "cell_type": "code",
   "execution_count": 15,
   "metadata": {},
   "outputs": [
    {
     "name": "stdout",
     "output_type": "stream",
     "text": [
      "<class 'pandas.core.frame.DataFrame'>\n",
      "RangeIndex: 25000 entries, 0 to 24999\n",
      "Data columns (total 13 columns):\n",
      " #   Column           Non-Null Count  Dtype  \n",
      "---  ------           --------------  -----  \n",
      " 0   Severity         25000 non-null  int64  \n",
      " 1   Start_Time       25000 non-null  object \n",
      " 2   Start_Lat        25000 non-null  float64\n",
      " 3   Start_Lng        25000 non-null  float64\n",
      " 4   City             24999 non-null  object \n",
      " 5   State            25000 non-null  object \n",
      " 6   Temperature(F)   24468 non-null  float64\n",
      " 7   Humidity(%)      24435 non-null  float64\n",
      " 8   Pressure(in)     24552 non-null  float64\n",
      " 9   Visibility(mi)   24435 non-null  float64\n",
      " 10  Wind_Speed(mph)  23126 non-null  float64\n",
      " 11  Road_Type        21774 non-null  object \n",
      " 12  Population       25000 non-null  int64  \n",
      "dtypes: float64(7), int64(2), object(4)\n",
      "memory usage: 2.5+ MB\n"
     ]
    }
   ],
   "source": [
    "data.info()"
   ]
  },
  {
   "cell_type": "code",
   "execution_count": 16,
   "metadata": {},
   "outputs": [],
   "source": [
    "data.to_csv(\"finalDataWithPopulation2.csv\")"
   ]
  },
  {
   "cell_type": "code",
   "execution_count": 3,
   "metadata": {},
   "outputs": [],
   "source": [
    "data = pd.read_csv(\"finalDataWithPopulation2.csv\")"
   ]
  },
  {
   "cell_type": "code",
   "execution_count": 4,
   "metadata": {},
   "outputs": [
    {
     "name": "stdout",
     "output_type": "stream",
     "text": [
      "<class 'pandas.core.frame.DataFrame'>\n",
      "RangeIndex: 25000 entries, 0 to 24999\n",
      "Data columns (total 14 columns):\n",
      " #   Column           Non-Null Count  Dtype  \n",
      "---  ------           --------------  -----  \n",
      " 0   Unnamed: 0       25000 non-null  int64  \n",
      " 1   Severity         25000 non-null  int64  \n",
      " 2   Start_Time       25000 non-null  object \n",
      " 3   Start_Lat        25000 non-null  float64\n",
      " 4   Start_Lng        25000 non-null  float64\n",
      " 5   City             24999 non-null  object \n",
      " 6   State            25000 non-null  object \n",
      " 7   Temperature(F)   24468 non-null  float64\n",
      " 8   Humidity(%)      24435 non-null  float64\n",
      " 9   Pressure(in)     24552 non-null  float64\n",
      " 10  Visibility(mi)   24435 non-null  float64\n",
      " 11  Wind_Speed(mph)  23126 non-null  float64\n",
      " 12  Road_Type        21774 non-null  object \n",
      " 13  Population       25000 non-null  int64  \n",
      "dtypes: float64(7), int64(3), object(4)\n",
      "memory usage: 2.7+ MB\n"
     ]
    }
   ],
   "source": [
    "data.info()"
   ]
  },
  {
   "cell_type": "code",
   "execution_count": 6,
   "metadata": {},
   "outputs": [],
   "source": [
    "data = data.dropna(how='any')"
   ]
  },
  {
   "cell_type": "code",
   "execution_count": 11,
   "metadata": {},
   "outputs": [
    {
     "name": "stdout",
     "output_type": "stream",
     "text": [
      "<class 'pandas.core.frame.DataFrame'>\n",
      "Index: 19988 entries, 0 to 24999\n",
      "Data columns (total 13 columns):\n",
      " #   Column           Non-Null Count  Dtype  \n",
      "---  ------           --------------  -----  \n",
      " 0   Severity         19988 non-null  int64  \n",
      " 1   Start_Time       19988 non-null  object \n",
      " 2   Start_Lat        19988 non-null  float64\n",
      " 3   Start_Lng        19988 non-null  float64\n",
      " 4   City             19988 non-null  object \n",
      " 5   State            19988 non-null  object \n",
      " 6   Temperature(F)   19988 non-null  float64\n",
      " 7   Humidity(%)      19988 non-null  float64\n",
      " 8   Pressure(in)     19988 non-null  float64\n",
      " 9   Visibility(mi)   19988 non-null  float64\n",
      " 10  Wind_Speed(mph)  19988 non-null  float64\n",
      " 11  Road_Type        19988 non-null  object \n",
      " 12  Population       19988 non-null  int64  \n",
      "dtypes: float64(7), int64(2), object(4)\n",
      "memory usage: 2.1+ MB\n"
     ]
    }
   ],
   "source": [
    "data.info()"
   ]
  },
  {
   "cell_type": "code",
   "execution_count": 13,
   "metadata": {},
   "outputs": [],
   "source": [
    "data = data.drop(columns=[\"Start_Time\", \"Start_Lat\", \"Start_Lng\", \"City\", \"State\"])"
   ]
  },
  {
   "cell_type": "code",
   "execution_count": 14,
   "metadata": {},
   "outputs": [],
   "source": [
    "data.to_csv(\"finalDataWithPopulation3.csv\")"
   ]
  }
 ],
 "metadata": {
  "kernelspec": {
   "display_name": "Python 3",
   "language": "python",
   "name": "python3"
  },
  "language_info": {
   "codemirror_mode": {
    "name": "ipython",
    "version": 3
   },
   "file_extension": ".py",
   "mimetype": "text/x-python",
   "name": "python",
   "nbconvert_exporter": "python",
   "pygments_lexer": "ipython3",
   "version": "3.11.1"
  }
 },
 "nbformat": 4,
 "nbformat_minor": 2
}
